{
 "cells": [
  {
   "cell_type": "markdown",
   "metadata": {},
   "source": [
    "# Create email slicer using Python.."
   ]
  },
  {
   "cell_type": "code",
   "execution_count": 15,
   "metadata": {},
   "outputs": [],
   "source": [
    "def outcome(a):\n",
    "    for i in a:\n",
    "        Email = i.strip()\n",
    "        username = Email[:Email.index(\"@\")]\n",
    "        domain_name = Email[Email.index(\"@\")+1:]\n",
    "        format_ = (f\"Your user name is '{username}' and your domain is '{domain_name}'\")\n",
    "        print(format_)\n",
    "        \n",
    "    "
   ]
  },
  {
   "cell_type": "code",
   "execution_count": 16,
   "metadata": {},
   "outputs": [],
   "source": [
    "get=['vaibhav@gmail.com' , 'sandy@gmail.com' ,'robert@gmail.com']"
   ]
  },
  {
   "cell_type": "code",
   "execution_count": 17,
   "metadata": {},
   "outputs": [
    {
     "name": "stdout",
     "output_type": "stream",
     "text": [
      "Your user name is 'vaibhav' and your domain is 'gmail.com'\n",
      "Your user name is 'sandy' and your domain is 'gmail.com'\n",
      "Your user name is 'robert' and your domain is 'gmail.com'\n"
     ]
    }
   ],
   "source": [
    "s=new(get)"
   ]
  },
  {
   "cell_type": "code",
   "execution_count": null,
   "metadata": {},
   "outputs": [],
   "source": []
  }
 ],
 "metadata": {
  "kernelspec": {
   "display_name": "Python 3",
   "language": "python",
   "name": "python3"
  },
  "language_info": {
   "codemirror_mode": {
    "name": "ipython",
    "version": 3
   },
   "file_extension": ".py",
   "mimetype": "text/x-python",
   "name": "python",
   "nbconvert_exporter": "python",
   "pygments_lexer": "ipython3",
   "version": "3.8.3"
  }
 },
 "nbformat": 4,
 "nbformat_minor": 4
}
